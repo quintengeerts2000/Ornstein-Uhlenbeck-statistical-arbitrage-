{
 "cells": [
  {
   "cell_type": "markdown",
   "metadata": {},
   "source": [
    "# Backtest \n",
    "This notebook will consist of 3 parts:\n",
    "\n",
    "1) Backtest for one specific asset\n",
    "2) Add returns for all backtests to get algo for all assets\n",
    "3) Optimising the parameters in-sample: LOOKBACK_PERIOD (2 days, 7 days), s-score threshholds (+-1, +-2, +-3,+-4, +-5), close threshold(0x,0.5x,0.75x), stop loss (1.25x, 1.5x, 2x): total = 2x5x3x3 = 90\n",
    "4) final backtest with out of sample data"
   ]
  },
  {
   "cell_type": "markdown",
   "metadata": {},
   "source": [
    "### 0) choosing parameters and imports"
   ]
  },
  {
   "cell_type": "code",
   "execution_count": 19,
   "metadata": {},
   "outputs": [],
   "source": [
    "LOOKBACK_PERIOD = 192\n",
    "EIGENPORTFOLIO_CUTOFF = 0.55\n",
    "DRIFT_SENSITIVITY = 2"
   ]
  },
  {
   "cell_type": "code",
   "execution_count": 111,
   "metadata": {},
   "outputs": [
    {
     "name": "stdout",
     "output_type": "stream",
     "text": [
      "The autoreload extension is already loaded. To reload it, use:\n",
      "  %reload_ext autoreload\n"
     ]
    }
   ],
   "source": [
    "%load_ext autoreload\n",
    "%autoreload 2\n",
    "from SA_OU_helpers import *\n",
    "from backtest_helpers import *\n",
    "import matplotlib.pyplot as plt\n",
    "import matplotlib.dates as mdates\n",
    "import os\n",
    "import pandas as pd\n",
    "import numpy as np\n",
    "from tqdm import trange, tqdm\n"
   ]
  },
  {
   "cell_type": "markdown",
   "metadata": {},
   "source": [
    "#### Calculating some data beforehand"
   ]
  },
  {
   "cell_type": "code",
   "execution_count": 21,
   "metadata": {},
   "outputs": [
    {
     "name": "stderr",
     "output_type": "stream",
     "text": [
      "100%|██████████| 269/269 [00:00<00:00, 286.50it/s]\n",
      "100%|██████████| 268/268 [00:02<00:00, 132.07it/s]\n",
      "100%|██████████| 267/267 [00:06<00:00, 43.97it/s]\n",
      "100%|██████████| 267/267 [03:32<00:00,  1.26it/s]\n",
      "100%|██████████| 267/267 [00:01<00:00, 151.20it/s]\n",
      "100%|██████████| 267/267 [00:21<00:00, 12.54it/s]\n",
      "100%|██████████| 267/267 [00:13<00:00, 19.53it/s]\n"
     ]
    }
   ],
   "source": [
    "returns,log_returns, goodness_of_fit, R2_training_all_epochs, R2_forward_all_epochs, returns_res_forward, returns_res_training, Xi_training, Xi_forward, OU_params, eig_portf, s_score_training, s_score_forward, betas_all_epochs,alphas_all_epochs,ret_eigportf_training, ret_eigportf_forward = prepare_data('pct_returns.csv', 'log_returns.csv', LOOKBACK_PERIOD, EIGENPORTFOLIO_CUTOFF,DRIFT_SENSITIVITY)"
   ]
  },
  {
   "cell_type": "markdown",
   "metadata": {},
   "source": [
    "#### 1) Backtest with transaction costs"
   ]
  },
  {
   "cell_type": "markdown",
   "metadata": {},
   "source": [
    "Parameters"
   ]
  },
  {
   "cell_type": "code",
   "execution_count": 53,
   "metadata": {},
   "outputs": [],
   "source": [
    "R2_thresh = 0.8\n",
    "kappa_thresh = 25\n",
    "transaction_costs = 0.001\n",
    "lookback = 192\n",
    "entry = 3\n",
    "exit = 1.5\n",
    "stoploss = 4"
   ]
  },
  {
   "cell_type": "markdown",
   "metadata": {},
   "source": [
    "The Backtest is based on the following rules:"
   ]
  },
  {
   "cell_type": "code",
   "execution_count": 116,
   "metadata": {},
   "outputs": [
    {
     "name": "stderr",
     "output_type": "stream",
     "text": [
      "50000it [55:07, 15.12it/s]\n"
     ]
    }
   ],
   "source": [
    "simulation = backtest(returns.iloc[:50000],s_score_forward,R2_training_all_epochs, OU_params,betas_all_epochs,eig_portf, R2_thresh, kappa_thresh, transaction_costs,lookback, entry, exit, stoploss)\n",
    "hist1 = simulation.trade_history"
   ]
  },
  {
   "cell_type": "markdown",
   "metadata": {},
   "source": [
    "below a plot of the portfolio value"
   ]
  },
  {
   "cell_type": "code",
   "execution_count": 125,
   "metadata": {},
   "outputs": [
    {
     "name": "stdout",
     "output_type": "stream",
     "text": [
      "Total trades: 674\n",
      "Hitrate: 45.40059347181009%\n",
      "average win: 9.174776435028248\n",
      "average loss: -8.851198300136458\n",
      "stop losses and take profits hit in total:\n",
      "sl    358\n",
      "tp    316\n",
      "Name: descr, dtype: int64\n",
      "total loss due to transaction costs: 93.43402320231023%\n"
     ]
    },
    {
     "data": {
      "image/png": "[encoded data removed]",
      "text/plain": [
       "<Figure size 640x480 with 1 Axes>"
      ]
     },
     "metadata": {},
     "output_type": "display_data"
    }
   ],
   "source": [
    "plt.ylabel('Portfolio value')\n",
    "plt.gca().xaxis.set_major_formatter(mdates.DateFormatter('%Y-%m-%d'))\n",
    "plt.gca().xaxis.set_major_locator(mdates.DayLocator(interval=160))\n",
    "plt.plot(pd.to_datetime(simulation.capital.index).date, simulation.capital.values)\n",
    "print('Total trades: {}'.format(len(hist1)))\n",
    "print('Hitrate: {}%'.format(len(hist1[hist1.pnl>0]) / len(hist1) *100))\n",
    "print('average win: {}'.format(hist1[hist1.pnl>0].pnl.mean()))\n",
    "print('average loss: {}'.format(hist1[hist1.pnl<0].pnl.mean()))\n",
    "print('stop losses and take profits hit in total:')\n",
    "print(hist1.descr.value_counts())\n",
    "ls = 1 - (simulation.transaction_cost_history *-1).cumsum().apply(np.exp).iloc[-1][0]\n",
    "print('total loss due to transaction costs: {}%'.format(ls*100))"
   ]
  },
  {
   "cell_type": "markdown",
   "metadata": {},
   "source": [
    "#### 2) Backtest NO transaction costs"
   ]
  },
  {
   "cell_type": "markdown",
   "metadata": {},
   "source": [
    "The first backtest looks very promising, a transaction cost of 0.1% seems correct"
   ]
  },
  {
   "cell_type": "code",
   "execution_count": 121,
   "metadata": {},
   "outputs": [],
   "source": [
    "R2_thresh = 0.8\n",
    "kappa_thresh = 25\n",
    "transaction_costs = 0.00\n",
    "lookback = 192\n",
    "entry = 3\n",
    "exit = 1.5\n",
    "stoploss = 4"
   ]
  },
  {
   "cell_type": "code",
   "execution_count": 122,
   "metadata": {},
   "outputs": [
    {
     "name": "stderr",
     "output_type": "stream",
     "text": [
      "50000it [54:19, 15.34it/s]\n"
     ]
    }
   ],
   "source": [
    "simulation2 = backtest(returns.iloc[:50000],s_score_forward,R2_training_all_epochs, OU_params, betas_all_epochs,eig_portf, R2_thresh, kappa_thresh, transaction_costs,lookback, entry, exit, stoploss)\n",
    "hist2 = simulation2.trade_history"
   ]
  },
  {
   "cell_type": "code",
   "execution_count": 124,
   "metadata": {},
   "outputs": [
    {
     "name": "stdout",
     "output_type": "stream",
     "text": [
      "Total trades: 674\n",
      "Hitrate: 53.85756676557863%\n",
      "average win: 41.075621704356294\n",
      "average loss: -24.13194142956618\n",
      "stop losses and take profits hit in total:\n",
      "sl    358\n",
      "tp    316\n",
      "Name: descr, dtype: int64\n",
      "total loss due to transaction costs: 0.0%\n"
     ]
    },
    {
     "data": {
      "image/png": "[encoded data removed]",
      "text/plain": [
       "<Figure size 640x480 with 1 Axes>"
      ]
     },
     "metadata": {},
     "output_type": "display_data"
    }
   ],
   "source": [
    "plt.ylabel('Portfolio value')\n",
    "plt.gca().xaxis.set_major_formatter(mdates.DateFormatter('%Y-%m-%d'))\n",
    "plt.gca().xaxis.set_major_locator(mdates.DayLocator(interval=160))\n",
    "plt.plot(pd.to_datetime(simulation2.capital.index).date, simulation2.capital.values)\n",
    "print('Total trades: {}'.format(len(hist2)))\n",
    "print('Hitrate: {}%'.format(len(hist2[hist2.pnl>0]) / len(hist2) *100))\n",
    "print('average win: {}'.format(hist2[hist2.pnl>0].pnl.mean()))\n",
    "print('average loss: {}'.format(hist2[hist2.pnl<0].pnl.mean()))\n",
    "print('stop losses and take profits hit in total:')\n",
    "print(hist2.descr.value_counts())\n",
    "ls = 1 - (simulation2.transaction_cost_history *-1).cumsum().apply(np.exp).iloc[-1][0]\n",
    "print('total loss due to transaction costs: {}%'.format(ls*100))"
   ]
  },
  {
   "cell_type": "code",
   "execution_count": 110,
   "metadata": {},
   "outputs": [
    {
     "data": {
      "text/plain": [
       "0.5029647574824605"
      ]
     },
     "execution_count": 110,
     "metadata": {},
     "output_type": "execute_result"
    }
   ],
   "source": [
    "np.exp((hist2.apply(lambda row: norm(row.positions,1), axis=1) * -0.001).sum())"
   ]
  },
  {
   "cell_type": "code",
   "execution_count": 158,
   "metadata": {},
   "outputs": [],
   "source": [
    "rf = 0.03\n",
    "ret = (simulation.capital / simulation.capital.shift(1)).dropna().cap.values.astype(float)\n",
    "ret = np.log(ret) \n",
    "mean = ret.mean() * 4*12*30*12\n",
    "std = ret.std()* np.sqrt(4*12*30*12)\n",
    "sharpe = (mean -np.log(1+rf))/ std "
   ]
  },
  {
   "cell_type": "code",
   "execution_count": 159,
   "metadata": {},
   "outputs": [
    {
     "data": {
      "text/plain": [
       "-1.2343690723640992"
      ]
     },
     "execution_count": 159,
     "metadata": {},
     "output_type": "execute_result"
    }
   ],
   "source": [
    "sharpe"
   ]
  },
  {
   "cell_type": "code",
   "execution_count": 160,
   "metadata": {},
   "outputs": [],
   "source": [
    "rf = 0.03\n",
    "ret2 = (simulation2.capital / simulation2.capital.shift(1)).dropna().cap.values.astype(float)\n",
    "ret2 = np.log(ret2) \n",
    "mean2 = ret2.mean() * 4*12*30*12\n",
    "std2 = ret2.std()* np.sqrt(4*12*30*12)\n",
    "sharpe2 = (mean2 -np.log(1+rf))/ std2"
   ]
  },
  {
   "cell_type": "code",
   "execution_count": 161,
   "metadata": {},
   "outputs": [
    {
     "data": {
      "text/plain": [
       "3.808975945924047"
      ]
     },
     "execution_count": 161,
     "metadata": {},
     "output_type": "execute_result"
    }
   ],
   "source": [
    "sharpe2"
   ]
  }
 ],
 "metadata": {
  "kernelspec": {
   "display_name": "Python 3.7.4 ('.venv': venv)",
   "language": "python",
   "name": "python3"
  },
  "language_info": {
   "codemirror_mode": {
    "name": "ipython",
    "version": 3
   },
   "file_extension": ".py",
   "mimetype": "text/x-python",
   "name": "python",
   "nbconvert_exporter": "python",
   "pygments_lexer": "ipython3",
   "version": "3.7.4"
  },
  "orig_nbformat": 4,
  "vscode": {
   "interpreter": {
    "hash": "4968aa807372fffacfa22691e898ef03c144a053834be107c24637ee1ab364b2"
   }
  }
 },
 "nbformat": 4,
 "nbformat_minor": 2
}
