{
 "cells": [
  {
   "cell_type": "markdown",
   "metadata": {},
   "source": [
    "# DataPipeline \n",
    "This notebook is used for fetching and cleaning the price data which will be used in the backtest of the model\n",
    "\n",
    "### Dimensions of data:\n",
    "1) 15 minute candles\n",
    "2) 100 most populair trading pairs\n",
    "3) 18 months of data"
   ]
  },
  {
   "cell_type": "markdown",
   "metadata": {},
   "source": [
    "### 0) Parameters for Data "
   ]
  },
  {
   "cell_type": "code",
   "execution_count": 1,
   "metadata": {},
   "outputs": [],
   "source": [
    "MONTHS_OF_DATA = 18\n",
    "AMOUNT_OF_PRODUCTS = 100"
   ]
  },
  {
   "cell_type": "markdown",
   "metadata": {},
   "source": [
    "### 1) Preparations for data download"
   ]
  },
  {
   "cell_type": "markdown",
   "metadata": {},
   "source": [
    "#### 1.1) Imports and API keys"
   ]
  },
  {
   "cell_type": "code",
   "execution_count": 3,
   "metadata": {},
   "outputs": [],
   "source": [
    "#from binance import Client\n",
    "import pandas as pd\n",
    "import datetime as dt\n",
    "import numpy as np\n",
    "import json\n",
    "from os.path import exists\n",
    "from tqdm import trange, tqdm"
   ]
  },
  {
   "cell_type": "code",
   "execution_count": 8,
   "metadata": {},
   "outputs": [],
   "source": [
    "with open('API_keys.json') as f:\n",
    "    data = json.load(f)\n",
    "api_key = data['API-Key']\n",
    "api_secret = data['Secret-Key']"
   ]
  },
  {
   "cell_type": "markdown",
   "metadata": {},
   "source": [
    "#### 1.2) Connecting to the binance API"
   ]
  },
  {
   "cell_type": "code",
   "execution_count": 9,
   "metadata": {},
   "outputs": [],
   "source": [
    "client = Client(api_key, api_secret)\n",
    "candle = client.KLINE_INTERVAL_15MINUTE"
   ]
  },
  {
   "cell_type": "markdown",
   "metadata": {},
   "source": [
    "### 2) Data download and cleaning"
   ]
  },
  {
   "cell_type": "markdown",
   "metadata": {},
   "source": [
    "#### 2.1) Create list of products to add"
   ]
  },
  {
   "cell_type": "code",
   "execution_count": 42,
   "metadata": {},
   "outputs": [],
   "source": [
    "# first fetch all products then filter them for: USDT market then for \n",
    "dictionary = client.get_products()['data']\n",
    "df_products = pd.DataFrame(dictionary)\n",
    "df_filtered_products = df_products[(df_products['q'] == 'USDT')&(df_products['st'] == 'TRADING')]\n",
    "df_sorted_products = df_filtered_products.sort_values(by='qv', ascending = False)\n",
    "#save the list of products to use in a list\n",
    "list_of_tickers = list(df_sorted_products.s.head(AMOUNT_OF_PRODUCTS).values)"
   ]
  },
  {
   "cell_type": "markdown",
   "metadata": {},
   "source": [
    "#### 2.2) Data downloader"
   ]
  },
  {
   "cell_type": "code",
   "execution_count": null,
   "metadata": {},
   "outputs": [],
   "source": [
    "end = dt.datetime.today()- dt.timedelta(days=1)\n",
    "start = end - dt.timedelta(days=30*MONTHS_OF_DATA)\n",
    "\n",
    "END = end.strftime('%-d %b, %Y')\n",
    "START = start.strftime('%-d %b, %Y')"
   ]
  },
  {
   "cell_type": "code",
   "execution_count": 123,
   "metadata": {},
   "outputs": [],
   "source": [
    "# purpose of function is to fetch price data for a specific symbol\n",
    "def get_klines_data(symbol):\n",
    "    rename_map = {\n",
    "        0: 'open_time',\n",
    "        1: 'open', \n",
    "        2: 'high', \n",
    "        3: 'low', \n",
    "        4: 'close', \n",
    "        5: 'volume',\n",
    "        6: 'close_time', \n",
    "        7: 'qav', \n",
    "        8: 'num_trades',\n",
    "        9: 'taker_base_vol', \n",
    "        10: 'taker_quote_vol', \n",
    "        11: 'ignore'\n",
    "    }\n",
    "    klines = client.get_historical_klines(symbol, candle, START, END)\n",
    "    data = pd.DataFrame(klines).rename(rename_map, axis= 1) \n",
    "    data.open_time = [dt.datetime.fromtimestamp(x/1000.0) for x in data.open_time]\n",
    "    data.close_time = [dt.datetime.fromtimestamp(x/1000.0) for x in data.close_time]\n",
    "    return data"
   ]
  },
  {
   "cell_type": "code",
   "execution_count": 126,
   "metadata": {},
   "outputs": [
    {
     "name": "stderr",
     "output_type": "stream",
     "text": [
      "100%|██████████| 100/100 [07:17<00:00,  4.38s/it]\n"
     ]
    }
   ],
   "source": [
    "#searches for the historic data for all the specified tickers \n",
    "for ticker in tqdm(list_of_tickers):\n",
    "    path = 'price_data/{}.csv'.format(ticker)\n",
    "    #checks if it still needs to save data\n",
    "    if not exists(path):\n",
    "        #fetch data\n",
    "        symbol_data = get_klines_data(ticker)\n",
    "        #save data\n",
    "        symbol_data.to_csv(path)"
   ]
  },
  {
   "cell_type": "code",
   "execution_count": 9,
   "metadata": {},
   "outputs": [],
   "source": [
    "import os\n",
    "list_of_tickers = os.listdir('price_data')"
   ]
  },
  {
   "cell_type": "markdown",
   "metadata": {},
   "source": [
    "#### 2.3) Merge all data"
   ]
  },
  {
   "cell_type": "code",
   "execution_count": 43,
   "metadata": {},
   "outputs": [
    {
     "name": "stderr",
     "output_type": "stream",
     "text": [
      "100it [00:26,  3.74it/s]\n"
     ]
    }
   ],
   "source": [
    "price_data = False\n",
    "for idx, ticker in tqdm(enumerate(list_of_tickers)):\n",
    "    ticker = ticker.split('.')[0]\n",
    "    path = 'price_data/{}.csv'.format(ticker)\n",
    "    data = pd.read_csv(path)\n",
    "    #if this is first loop instantiate the dataframe\n",
    "    if idx == 0:\n",
    "        price_data = data[['close_time','close']]\n",
    "        price_data = price_data.set_index('close_time')\n",
    "        price_data = price_data.rename({'close':ticker},axis=1)\n",
    "    else:\n",
    "        data = data[['close_time','close']]\n",
    "        data = data.set_index('close_time')\n",
    "        data = data.rename({'close':ticker},axis=1)\n",
    "        data = data[~data.index.duplicated(keep='first')]\n",
    "        #now merge the dataframes\n",
    "        #price_data = pd.merge(left=price_data,right=data,how='left',on='close_time')\n",
    "        price_data = price_data.join(data, how='outer')\n",
    "\n",
    "    price_data = price_data[~price_data.index.duplicated(keep='first')]"
   ]
  },
  {
   "cell_type": "markdown",
   "metadata": {},
   "source": [
    "#### 2.4) Clean dataset"
   ]
  },
  {
   "cell_type": "code",
   "execution_count": 44,
   "metadata": {},
   "outputs": [],
   "source": [
    "#cleaning of the dataset\n",
    "#price_data = price_data.dropna(thresh=100, axis=1,inplace=False)\n",
    "#price_data = price_data.dropna(axis=1, thresh=len(price_data)-2)\n",
    "#price_data = price_data.dropna()\n",
    "#rounding the index\n",
    "price_data.index = pd.to_datetime(price_data.index).round('min')\n",
    "#drop the stablecoins\n",
    "not_allowed = ['BUSDUSDT','TUSDUSDT','USDCUSDT','PAXUSDT','USDCTUSD','USDCPAX','PAXTUSD','BTCNGN', 'EURUSDT','GBPUSDT', 'AUDUSDT']\n",
    "price_data = price_data.drop(not_allowed, axis=1, errors = 'ignore')"
   ]
  },
  {
   "cell_type": "markdown",
   "metadata": {},
   "source": [
    "#### 2.5) Calculate the returns and log-returns for the dataset"
   ]
  },
  {
   "cell_type": "code",
   "execution_count": 52,
   "metadata": {},
   "outputs": [],
   "source": [
    "price_data = price_data[price_data.index.hour % 4 == 0]"
   ]
  },
  {
   "cell_type": "code",
   "execution_count": 53,
   "metadata": {},
   "outputs": [],
   "source": [
    "log_ret = np.log(price_data / price_data.shift(1))\n",
    "#log_ret.dropna(inplace=True)"
   ]
  },
  {
   "cell_type": "code",
   "execution_count": 54,
   "metadata": {},
   "outputs": [],
   "source": [
    "pct_ret = price_data.pct_change(1)\n",
    "#pct_ret.dropna(inplace=True)"
   ]
  },
  {
   "cell_type": "markdown",
   "metadata": {},
   "source": [
    "#### 2.6) Save the data"
   ]
  },
  {
   "cell_type": "code",
   "execution_count": 57,
   "metadata": {},
   "outputs": [],
   "source": [
    "log_ret.to_csv('log_returns.csv')\n",
    "pct_ret.to_csv('pct_returns.csv')\n",
    "price_data.to_csv('price_data.csv')"
   ]
  }
 ],
 "metadata": {
  "kernelspec": {
   "display_name": "Python 3.7.4 ('.venv': venv)",
   "language": "python",
   "name": "python3"
  },
  "language_info": {
   "codemirror_mode": {
    "name": "ipython",
    "version": 3
   },
   "file_extension": ".py",
   "mimetype": "text/x-python",
   "name": "python",
   "nbconvert_exporter": "python",
   "pygments_lexer": "ipython3",
   "version": "3.8.15"
  },
  "orig_nbformat": 4,
  "vscode": {
   "interpreter": {
    "hash": "4968aa807372fffacfa22691e898ef03c144a053834be107c24637ee1ab364b2"
   }
  }
 },
 "nbformat": 4,
 "nbformat_minor": 2
}
